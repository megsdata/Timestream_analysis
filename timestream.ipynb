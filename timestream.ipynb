{
 "cells": [
  {
   "cell_type": "code",
   "execution_count": 16,
   "metadata": {},
   "outputs": [],
   "source": [
    "import matplotlib.pyplot as plt\n",
    "plt.rcParams['figure.figsize'] = [15, 5]\n",
    "#import timestreamquery as timestream\n",
    "import timestream_query\n",
    "from IPython import display\n",
    "import pandas as pd\n",
    "import boto3\n",
    "import botocore\n",
    "import sagemaker\n",
    "import sys"
   ]
  },
  {
   "cell_type": "code",
   "execution_count": 12,
   "metadata": {},
   "outputs": [
    {
     "ename": "NameError",
     "evalue": "name 'Config' is not defined",
     "output_type": "error",
     "traceback": [
      "\u001b[0;31m---------------------------------------------------------------------------\u001b[0m",
      "\u001b[0;31mNameError\u001b[0m                                 Traceback (most recent call last)",
      "Cell \u001b[0;32mIn[12], line 5\u001b[0m\n\u001b[1;32m      3\u001b[0m database \u001b[39m=\u001b[39m \u001b[39m\"\u001b[39m\u001b[39mgarmin_metrics_abir\u001b[39m\u001b[39m\"\u001b[39m\n\u001b[1;32m      4\u001b[0m table \u001b[39m=\u001b[39m \u001b[39m\"\u001b[39m\u001b[39mhealth_metrics\u001b[39m\u001b[39m\"\u001b[39m\n\u001b[0;32m----> 5\u001b[0m query_client \u001b[39m=\u001b[39m session\u001b[39m.\u001b[39mclient(\u001b[39m\"\u001b[39m\u001b[39mtimestream-query\u001b[39m\u001b[39m\"\u001b[39m, config\u001b[39m=\u001b[39mConfig(region_name\u001b[39m=\u001b[39mregion))\n\u001b[1;32m      6\u001b[0m query_util \u001b[39m=\u001b[39m QueryUtil(query_client, database, table)\n\u001b[1;32m      7\u001b[0m query_string \u001b[39m=\u001b[39m \u001b[39mf\u001b[39m\u001b[39m\"\u001b[39m\u001b[39mSELECT Id FROM \u001b[39m\u001b[39m{\u001b[39;00mdatabase\u001b[39m}\u001b[39;00m\u001b[39m.\u001b[39m\u001b[39m{\u001b[39;00mtable\u001b[39m}\u001b[39;00m\u001b[39m WHERE time >= ago(24h)\u001b[39m\u001b[39m\"\u001b[39m\n",
      "\u001b[0;31mNameError\u001b[0m: name 'Config' is not defined"
     ]
    }
   ],
   "source": [
    "region = \"us-east-1\"\n",
    "session = boto3.Session()\n",
    "database = \"garmin_metrics_abir\"\n",
    "table = \"health_metrics\"\n",
    "query_client = session.client(\"timestream-query\", config=Config(region_name=region))\n",
    "query_util = QueryUtil(query_client, database, table)\n",
    "query_string = f\"SELECT Id FROM {database}.{table} WHERE time >= ago(24h)\"\n",
    "\n",
    "# Run Query\n",
    "id_list = query_util.run_query(query_string, True)"
   ]
  },
  {
   "cell_type": "code",
   "execution_count": null,
   "metadata": {},
   "outputs": [],
   "source": [
    "#required packages\n",
    "#python -m pip install 'boto3-stubs[timestream-query]'"
   ]
  },
  {
   "cell_type": "code",
   "execution_count": 18,
   "metadata": {},
   "outputs": [
    {
     "ename": "NoRegionError",
     "evalue": "You must specify a region.",
     "output_type": "error",
     "traceback": [
      "\u001b[0;31m---------------------------------------------------------------------------\u001b[0m",
      "\u001b[0;31mNoRegionError\u001b[0m                             Traceback (most recent call last)",
      "Cell \u001b[0;32mIn[18], line 10\u001b[0m\n\u001b[1;32m      7\u001b[0m TABLE_NAME \u001b[39m=\u001b[39m \u001b[39m\"\u001b[39m\u001b[39mhealth_metrics\u001b[39m\u001b[39m\"\u001b[39m \u001b[39m# <--- specify the table created in Amazon Timestream\u001b[39;00m\n\u001b[1;32m      9\u001b[0m \u001b[39m#client = timestream_query.createQueryClient(ENDPOINT, profile=PROFILE)\u001b[39;00m\n\u001b[0;32m---> 10\u001b[0m query_client \u001b[39m=\u001b[39m session\u001b[39m.\u001b[39;49mclient(\u001b[39m'\u001b[39;49m\u001b[39mtimestream-query\u001b[39;49m\u001b[39m'\u001b[39;49m)\n",
      "File \u001b[0;32m~/Library/Mobile Documents/com~apple~CloudDocs/CureTrax/Code/Timestream_analysis/.venv/lib/python3.9/site-packages/boto3/session.py:299\u001b[0m, in \u001b[0;36mSession.client\u001b[0;34m(self, service_name, region_name, api_version, use_ssl, verify, endpoint_url, aws_access_key_id, aws_secret_access_key, aws_session_token, config)\u001b[0m\n\u001b[1;32m    217\u001b[0m \u001b[39mdef\u001b[39;00m \u001b[39mclient\u001b[39m(\n\u001b[1;32m    218\u001b[0m     \u001b[39mself\u001b[39m,\n\u001b[1;32m    219\u001b[0m     service_name,\n\u001b[0;32m   (...)\u001b[0m\n\u001b[1;32m    228\u001b[0m     config\u001b[39m=\u001b[39m\u001b[39mNone\u001b[39;00m,\n\u001b[1;32m    229\u001b[0m ):\n\u001b[1;32m    230\u001b[0m \u001b[39m    \u001b[39m\u001b[39m\"\"\"\u001b[39;00m\n\u001b[1;32m    231\u001b[0m \u001b[39m    Create a low-level service client by name.\u001b[39;00m\n\u001b[1;32m    232\u001b[0m \n\u001b[0;32m   (...)\u001b[0m\n\u001b[1;32m    297\u001b[0m \n\u001b[1;32m    298\u001b[0m \u001b[39m    \"\"\"\u001b[39;00m\n\u001b[0;32m--> 299\u001b[0m     \u001b[39mreturn\u001b[39;00m \u001b[39mself\u001b[39;49m\u001b[39m.\u001b[39;49m_session\u001b[39m.\u001b[39;49mcreate_client(\n\u001b[1;32m    300\u001b[0m         service_name,\n\u001b[1;32m    301\u001b[0m         region_name\u001b[39m=\u001b[39;49mregion_name,\n\u001b[1;32m    302\u001b[0m         api_version\u001b[39m=\u001b[39;49mapi_version,\n\u001b[1;32m    303\u001b[0m         use_ssl\u001b[39m=\u001b[39;49muse_ssl,\n\u001b[1;32m    304\u001b[0m         verify\u001b[39m=\u001b[39;49mverify,\n\u001b[1;32m    305\u001b[0m         endpoint_url\u001b[39m=\u001b[39;49mendpoint_url,\n\u001b[1;32m    306\u001b[0m         aws_access_key_id\u001b[39m=\u001b[39;49maws_access_key_id,\n\u001b[1;32m    307\u001b[0m         aws_secret_access_key\u001b[39m=\u001b[39;49maws_secret_access_key,\n\u001b[1;32m    308\u001b[0m         aws_session_token\u001b[39m=\u001b[39;49maws_session_token,\n\u001b[1;32m    309\u001b[0m         config\u001b[39m=\u001b[39;49mconfig,\n\u001b[1;32m    310\u001b[0m     )\n",
      "File \u001b[0;32m~/Library/Mobile Documents/com~apple~CloudDocs/CureTrax/Code/Timestream_analysis/.venv/lib/python3.9/site-packages/botocore/session.py:976\u001b[0m, in \u001b[0;36mSession.create_client\u001b[0;34m(self, service_name, region_name, api_version, use_ssl, verify, endpoint_url, aws_access_key_id, aws_secret_access_key, aws_session_token, config)\u001b[0m\n\u001b[1;32m    962\u001b[0m     smart_defaults_factory\u001b[39m.\u001b[39mmerge_smart_defaults(\n\u001b[1;32m    963\u001b[0m         config_store, defaults_mode, region_name\n\u001b[1;32m    964\u001b[0m     )\n\u001b[1;32m    965\u001b[0m client_creator \u001b[39m=\u001b[39m botocore\u001b[39m.\u001b[39mclient\u001b[39m.\u001b[39mClientCreator(\n\u001b[1;32m    966\u001b[0m     loader,\n\u001b[1;32m    967\u001b[0m     endpoint_resolver,\n\u001b[0;32m   (...)\u001b[0m\n\u001b[1;32m    974\u001b[0m     config_store,\n\u001b[1;32m    975\u001b[0m )\n\u001b[0;32m--> 976\u001b[0m client \u001b[39m=\u001b[39m client_creator\u001b[39m.\u001b[39;49mcreate_client(\n\u001b[1;32m    977\u001b[0m     service_name\u001b[39m=\u001b[39;49mservice_name,\n\u001b[1;32m    978\u001b[0m     region_name\u001b[39m=\u001b[39;49mregion_name,\n\u001b[1;32m    979\u001b[0m     is_secure\u001b[39m=\u001b[39;49muse_ssl,\n\u001b[1;32m    980\u001b[0m     endpoint_url\u001b[39m=\u001b[39;49mendpoint_url,\n\u001b[1;32m    981\u001b[0m     verify\u001b[39m=\u001b[39;49mverify,\n\u001b[1;32m    982\u001b[0m     credentials\u001b[39m=\u001b[39;49mcredentials,\n\u001b[1;32m    983\u001b[0m     scoped_config\u001b[39m=\u001b[39;49m\u001b[39mself\u001b[39;49m\u001b[39m.\u001b[39;49mget_scoped_config(),\n\u001b[1;32m    984\u001b[0m     client_config\u001b[39m=\u001b[39;49mconfig,\n\u001b[1;32m    985\u001b[0m     api_version\u001b[39m=\u001b[39;49mapi_version,\n\u001b[1;32m    986\u001b[0m     auth_token\u001b[39m=\u001b[39;49mauth_token,\n\u001b[1;32m    987\u001b[0m )\n\u001b[1;32m    988\u001b[0m monitor \u001b[39m=\u001b[39m \u001b[39mself\u001b[39m\u001b[39m.\u001b[39m_get_internal_component(\u001b[39m'\u001b[39m\u001b[39mmonitor\u001b[39m\u001b[39m'\u001b[39m)\n\u001b[1;32m    989\u001b[0m \u001b[39mif\u001b[39;00m monitor \u001b[39mis\u001b[39;00m \u001b[39mnot\u001b[39;00m \u001b[39mNone\u001b[39;00m:\n",
      "File \u001b[0;32m~/Library/Mobile Documents/com~apple~CloudDocs/CureTrax/Code/Timestream_analysis/.venv/lib/python3.9/site-packages/botocore/client.py:155\u001b[0m, in \u001b[0;36mClientCreator.create_client\u001b[0;34m(self, service_name, region_name, is_secure, endpoint_url, verify, credentials, scoped_config, api_version, client_config, auth_token)\u001b[0m\n\u001b[1;32m    142\u001b[0m region_name, client_config \u001b[39m=\u001b[39m \u001b[39mself\u001b[39m\u001b[39m.\u001b[39m_normalize_fips_region(\n\u001b[1;32m    143\u001b[0m     region_name, client_config\n\u001b[1;32m    144\u001b[0m )\n\u001b[1;32m    145\u001b[0m endpoint_bridge \u001b[39m=\u001b[39m ClientEndpointBridge(\n\u001b[1;32m    146\u001b[0m     \u001b[39mself\u001b[39m\u001b[39m.\u001b[39m_endpoint_resolver,\n\u001b[1;32m    147\u001b[0m     scoped_config,\n\u001b[0;32m   (...)\u001b[0m\n\u001b[1;32m    153\u001b[0m     ),\n\u001b[1;32m    154\u001b[0m )\n\u001b[0;32m--> 155\u001b[0m client_args \u001b[39m=\u001b[39m \u001b[39mself\u001b[39;49m\u001b[39m.\u001b[39;49m_get_client_args(\n\u001b[1;32m    156\u001b[0m     service_model,\n\u001b[1;32m    157\u001b[0m     region_name,\n\u001b[1;32m    158\u001b[0m     is_secure,\n\u001b[1;32m    159\u001b[0m     endpoint_url,\n\u001b[1;32m    160\u001b[0m     verify,\n\u001b[1;32m    161\u001b[0m     credentials,\n\u001b[1;32m    162\u001b[0m     scoped_config,\n\u001b[1;32m    163\u001b[0m     client_config,\n\u001b[1;32m    164\u001b[0m     endpoint_bridge,\n\u001b[1;32m    165\u001b[0m     auth_token,\n\u001b[1;32m    166\u001b[0m     endpoints_ruleset_data,\n\u001b[1;32m    167\u001b[0m     partition_data,\n\u001b[1;32m    168\u001b[0m )\n\u001b[1;32m    169\u001b[0m service_client \u001b[39m=\u001b[39m \u001b[39mcls\u001b[39m(\u001b[39m*\u001b[39m\u001b[39m*\u001b[39mclient_args)\n\u001b[1;32m    170\u001b[0m \u001b[39mself\u001b[39m\u001b[39m.\u001b[39m_register_retries(service_client)\n",
      "File \u001b[0;32m~/Library/Mobile Documents/com~apple~CloudDocs/CureTrax/Code/Timestream_analysis/.venv/lib/python3.9/site-packages/botocore/client.py:485\u001b[0m, in \u001b[0;36mClientCreator._get_client_args\u001b[0;34m(self, service_model, region_name, is_secure, endpoint_url, verify, credentials, scoped_config, client_config, endpoint_bridge, auth_token, endpoints_ruleset_data, partition_data)\u001b[0m\n\u001b[1;32m    462\u001b[0m \u001b[39mdef\u001b[39;00m \u001b[39m_get_client_args\u001b[39m(\n\u001b[1;32m    463\u001b[0m     \u001b[39mself\u001b[39m,\n\u001b[1;32m    464\u001b[0m     service_model,\n\u001b[0;32m   (...)\u001b[0m\n\u001b[1;32m    475\u001b[0m     partition_data,\n\u001b[1;32m    476\u001b[0m ):\n\u001b[1;32m    477\u001b[0m     args_creator \u001b[39m=\u001b[39m ClientArgsCreator(\n\u001b[1;32m    478\u001b[0m         \u001b[39mself\u001b[39m\u001b[39m.\u001b[39m_event_emitter,\n\u001b[1;32m    479\u001b[0m         \u001b[39mself\u001b[39m\u001b[39m.\u001b[39m_user_agent,\n\u001b[0;32m   (...)\u001b[0m\n\u001b[1;32m    483\u001b[0m         config_store\u001b[39m=\u001b[39m\u001b[39mself\u001b[39m\u001b[39m.\u001b[39m_config_store,\n\u001b[1;32m    484\u001b[0m     )\n\u001b[0;32m--> 485\u001b[0m     \u001b[39mreturn\u001b[39;00m args_creator\u001b[39m.\u001b[39;49mget_client_args(\n\u001b[1;32m    486\u001b[0m         service_model,\n\u001b[1;32m    487\u001b[0m         region_name,\n\u001b[1;32m    488\u001b[0m         is_secure,\n\u001b[1;32m    489\u001b[0m         endpoint_url,\n\u001b[1;32m    490\u001b[0m         verify,\n\u001b[1;32m    491\u001b[0m         credentials,\n\u001b[1;32m    492\u001b[0m         scoped_config,\n\u001b[1;32m    493\u001b[0m         client_config,\n\u001b[1;32m    494\u001b[0m         endpoint_bridge,\n\u001b[1;32m    495\u001b[0m         auth_token,\n\u001b[1;32m    496\u001b[0m         endpoints_ruleset_data,\n\u001b[1;32m    497\u001b[0m         partition_data,\n\u001b[1;32m    498\u001b[0m     )\n",
      "File \u001b[0;32m~/Library/Mobile Documents/com~apple~CloudDocs/CureTrax/Code/Timestream_analysis/.venv/lib/python3.9/site-packages/botocore/args.py:92\u001b[0m, in \u001b[0;36mClientArgsCreator.get_client_args\u001b[0;34m(self, service_model, region_name, is_secure, endpoint_url, verify, credentials, scoped_config, client_config, endpoint_bridge, auth_token, endpoints_ruleset_data, partition_data)\u001b[0m\n\u001b[1;32m     77\u001b[0m \u001b[39mdef\u001b[39;00m \u001b[39mget_client_args\u001b[39m(\n\u001b[1;32m     78\u001b[0m     \u001b[39mself\u001b[39m,\n\u001b[1;32m     79\u001b[0m     service_model,\n\u001b[0;32m   (...)\u001b[0m\n\u001b[1;32m     90\u001b[0m     partition_data\u001b[39m=\u001b[39m\u001b[39mNone\u001b[39;00m,\n\u001b[1;32m     91\u001b[0m ):\n\u001b[0;32m---> 92\u001b[0m     final_args \u001b[39m=\u001b[39m \u001b[39mself\u001b[39;49m\u001b[39m.\u001b[39;49mcompute_client_args(\n\u001b[1;32m     93\u001b[0m         service_model,\n\u001b[1;32m     94\u001b[0m         client_config,\n\u001b[1;32m     95\u001b[0m         endpoint_bridge,\n\u001b[1;32m     96\u001b[0m         region_name,\n\u001b[1;32m     97\u001b[0m         endpoint_url,\n\u001b[1;32m     98\u001b[0m         is_secure,\n\u001b[1;32m     99\u001b[0m         scoped_config,\n\u001b[1;32m    100\u001b[0m     )\n\u001b[1;32m    102\u001b[0m     service_name \u001b[39m=\u001b[39m final_args[\u001b[39m'\u001b[39m\u001b[39mservice_name\u001b[39m\u001b[39m'\u001b[39m]  \u001b[39m# noqa\u001b[39;00m\n\u001b[1;32m    103\u001b[0m     parameter_validation \u001b[39m=\u001b[39m final_args[\u001b[39m'\u001b[39m\u001b[39mparameter_validation\u001b[39m\u001b[39m'\u001b[39m]\n",
      "File \u001b[0;32m~/Library/Mobile Documents/com~apple~CloudDocs/CureTrax/Code/Timestream_analysis/.venv/lib/python3.9/site-packages/botocore/args.py:205\u001b[0m, in \u001b[0;36mClientArgsCreator.compute_client_args\u001b[0;34m(self, service_model, client_config, endpoint_bridge, region_name, endpoint_url, is_secure, scoped_config)\u001b[0m\n\u001b[1;32m    202\u001b[0m         user_agent \u001b[39m+\u001b[39m\u001b[39m=\u001b[39m \u001b[39m'\u001b[39m\u001b[39m \u001b[39m\u001b[39m%s\u001b[39;00m\u001b[39m'\u001b[39m \u001b[39m%\u001b[39m client_config\u001b[39m.\u001b[39muser_agent_extra\n\u001b[1;32m    204\u001b[0m s3_config \u001b[39m=\u001b[39m \u001b[39mself\u001b[39m\u001b[39m.\u001b[39mcompute_s3_config(client_config)\n\u001b[0;32m--> 205\u001b[0m endpoint_config \u001b[39m=\u001b[39m \u001b[39mself\u001b[39;49m\u001b[39m.\u001b[39;49m_compute_endpoint_config(\n\u001b[1;32m    206\u001b[0m     service_name\u001b[39m=\u001b[39;49mservice_name,\n\u001b[1;32m    207\u001b[0m     region_name\u001b[39m=\u001b[39;49mregion_name,\n\u001b[1;32m    208\u001b[0m     endpoint_url\u001b[39m=\u001b[39;49mendpoint_url,\n\u001b[1;32m    209\u001b[0m     is_secure\u001b[39m=\u001b[39;49mis_secure,\n\u001b[1;32m    210\u001b[0m     endpoint_bridge\u001b[39m=\u001b[39;49mendpoint_bridge,\n\u001b[1;32m    211\u001b[0m     s3_config\u001b[39m=\u001b[39;49ms3_config,\n\u001b[1;32m    212\u001b[0m )\n\u001b[1;32m    213\u001b[0m endpoint_variant_tags \u001b[39m=\u001b[39m endpoint_config[\u001b[39m'\u001b[39m\u001b[39mmetadata\u001b[39m\u001b[39m'\u001b[39m]\u001b[39m.\u001b[39mget(\u001b[39m'\u001b[39m\u001b[39mtags\u001b[39m\u001b[39m'\u001b[39m, [])\n\u001b[1;32m    214\u001b[0m \u001b[39m# Create a new client config to be passed to the client based\u001b[39;00m\n\u001b[1;32m    215\u001b[0m \u001b[39m# on the final values. We do not want the user to be able\u001b[39;00m\n\u001b[1;32m    216\u001b[0m \u001b[39m# to try to modify an existing client with a client config.\u001b[39;00m\n",
      "File \u001b[0;32m~/Library/Mobile Documents/com~apple~CloudDocs/CureTrax/Code/Timestream_analysis/.venv/lib/python3.9/site-packages/botocore/args.py:313\u001b[0m, in \u001b[0;36mClientArgsCreator._compute_endpoint_config\u001b[0;34m(self, service_name, region_name, endpoint_url, is_secure, endpoint_bridge, s3_config)\u001b[0m\n\u001b[1;32m    311\u001b[0m \u001b[39mif\u001b[39;00m service_name \u001b[39m==\u001b[39m \u001b[39m'\u001b[39m\u001b[39msts\u001b[39m\u001b[39m'\u001b[39m:\n\u001b[1;32m    312\u001b[0m     \u001b[39mreturn\u001b[39;00m \u001b[39mself\u001b[39m\u001b[39m.\u001b[39m_compute_sts_endpoint_config(\u001b[39m*\u001b[39m\u001b[39m*\u001b[39mresolve_endpoint_kwargs)\n\u001b[0;32m--> 313\u001b[0m \u001b[39mreturn\u001b[39;00m \u001b[39mself\u001b[39;49m\u001b[39m.\u001b[39;49m_resolve_endpoint(\u001b[39m*\u001b[39;49m\u001b[39m*\u001b[39;49mresolve_endpoint_kwargs)\n",
      "File \u001b[0;32m~/Library/Mobile Documents/com~apple~CloudDocs/CureTrax/Code/Timestream_analysis/.venv/lib/python3.9/site-packages/botocore/args.py:418\u001b[0m, in \u001b[0;36mClientArgsCreator._resolve_endpoint\u001b[0;34m(self, service_name, region_name, endpoint_url, is_secure, endpoint_bridge)\u001b[0m\n\u001b[1;32m    410\u001b[0m \u001b[39mdef\u001b[39;00m \u001b[39m_resolve_endpoint\u001b[39m(\n\u001b[1;32m    411\u001b[0m     \u001b[39mself\u001b[39m,\n\u001b[1;32m    412\u001b[0m     service_name,\n\u001b[0;32m   (...)\u001b[0m\n\u001b[1;32m    416\u001b[0m     endpoint_bridge,\n\u001b[1;32m    417\u001b[0m ):\n\u001b[0;32m--> 418\u001b[0m     \u001b[39mreturn\u001b[39;00m endpoint_bridge\u001b[39m.\u001b[39;49mresolve(\n\u001b[1;32m    419\u001b[0m         service_name, region_name, endpoint_url, is_secure\n\u001b[1;32m    420\u001b[0m     )\n",
      "File \u001b[0;32m~/Library/Mobile Documents/com~apple~CloudDocs/CureTrax/Code/Timestream_analysis/.venv/lib/python3.9/site-packages/botocore/client.py:590\u001b[0m, in \u001b[0;36mClientEndpointBridge.resolve\u001b[0;34m(self, service_name, region_name, endpoint_url, is_secure)\u001b[0m\n\u001b[1;32m    584\u001b[0m use_dualstack_endpoint \u001b[39m=\u001b[39m \u001b[39mself\u001b[39m\u001b[39m.\u001b[39m_resolve_use_dualstack_endpoint(\n\u001b[1;32m    585\u001b[0m     service_name\n\u001b[1;32m    586\u001b[0m )\n\u001b[1;32m    587\u001b[0m use_fips_endpoint \u001b[39m=\u001b[39m \u001b[39mself\u001b[39m\u001b[39m.\u001b[39m_resolve_endpoint_variant_config_var(\n\u001b[1;32m    588\u001b[0m     \u001b[39m'\u001b[39m\u001b[39muse_fips_endpoint\u001b[39m\u001b[39m'\u001b[39m\n\u001b[1;32m    589\u001b[0m )\n\u001b[0;32m--> 590\u001b[0m resolved \u001b[39m=\u001b[39m \u001b[39mself\u001b[39;49m\u001b[39m.\u001b[39;49mendpoint_resolver\u001b[39m.\u001b[39;49mconstruct_endpoint(\n\u001b[1;32m    591\u001b[0m     service_name,\n\u001b[1;32m    592\u001b[0m     region_name,\n\u001b[1;32m    593\u001b[0m     use_dualstack_endpoint\u001b[39m=\u001b[39;49muse_dualstack_endpoint,\n\u001b[1;32m    594\u001b[0m     use_fips_endpoint\u001b[39m=\u001b[39;49muse_fips_endpoint,\n\u001b[1;32m    595\u001b[0m )\n\u001b[1;32m    597\u001b[0m \u001b[39m# If we can't resolve the region, we'll attempt to get a global\u001b[39;00m\n\u001b[1;32m    598\u001b[0m \u001b[39m# endpoint for non-regionalized services (iam, route53, etc)\u001b[39;00m\n\u001b[1;32m    599\u001b[0m \u001b[39mif\u001b[39;00m \u001b[39mnot\u001b[39;00m resolved:\n\u001b[1;32m    600\u001b[0m     \u001b[39m# TODO: fallback partition_name should be configurable in the\u001b[39;00m\n\u001b[1;32m    601\u001b[0m     \u001b[39m# future for users to define as needed.\u001b[39;00m\n",
      "File \u001b[0;32m~/Library/Mobile Documents/com~apple~CloudDocs/CureTrax/Code/Timestream_analysis/.venv/lib/python3.9/site-packages/botocore/regions.py:229\u001b[0m, in \u001b[0;36mEndpointResolver.construct_endpoint\u001b[0;34m(self, service_name, region_name, partition_name, use_dualstack_endpoint, use_fips_endpoint)\u001b[0m\n\u001b[1;32m    224\u001b[0m \u001b[39mif\u001b[39;00m use_dualstack_endpoint \u001b[39mand\u001b[39;00m (\n\u001b[1;32m    225\u001b[0m     partition[\u001b[39m'\u001b[39m\u001b[39mpartition\u001b[39m\u001b[39m'\u001b[39m]\n\u001b[1;32m    226\u001b[0m     \u001b[39min\u001b[39;00m \u001b[39mself\u001b[39m\u001b[39m.\u001b[39m_UNSUPPORTED_DUALSTACK_PARTITIONS\n\u001b[1;32m    227\u001b[0m ):\n\u001b[1;32m    228\u001b[0m     \u001b[39mcontinue\u001b[39;00m\n\u001b[0;32m--> 229\u001b[0m result \u001b[39m=\u001b[39m \u001b[39mself\u001b[39;49m\u001b[39m.\u001b[39;49m_endpoint_for_partition(\n\u001b[1;32m    230\u001b[0m     partition,\n\u001b[1;32m    231\u001b[0m     service_name,\n\u001b[1;32m    232\u001b[0m     region_name,\n\u001b[1;32m    233\u001b[0m     use_dualstack_endpoint,\n\u001b[1;32m    234\u001b[0m     use_fips_endpoint,\n\u001b[1;32m    235\u001b[0m )\n\u001b[1;32m    236\u001b[0m \u001b[39mif\u001b[39;00m result:\n\u001b[1;32m    237\u001b[0m     \u001b[39mreturn\u001b[39;00m result\n",
      "File \u001b[0;32m~/Library/Mobile Documents/com~apple~CloudDocs/CureTrax/Code/Timestream_analysis/.venv/lib/python3.9/site-packages/botocore/regions.py:277\u001b[0m, in \u001b[0;36mEndpointResolver._endpoint_for_partition\u001b[0;34m(self, partition, service_name, region_name, use_dualstack_endpoint, use_fips_endpoint, force_partition)\u001b[0m\n\u001b[1;32m    275\u001b[0m         region_name \u001b[39m=\u001b[39m service_data[\u001b[39m'\u001b[39m\u001b[39mpartitionEndpoint\u001b[39m\u001b[39m'\u001b[39m]\n\u001b[1;32m    276\u001b[0m     \u001b[39melse\u001b[39;00m:\n\u001b[0;32m--> 277\u001b[0m         \u001b[39mraise\u001b[39;00m NoRegionError()\n\u001b[1;32m    279\u001b[0m resolve_kwargs \u001b[39m=\u001b[39m {\n\u001b[1;32m    280\u001b[0m     \u001b[39m'\u001b[39m\u001b[39mpartition\u001b[39m\u001b[39m'\u001b[39m: partition,\n\u001b[1;32m    281\u001b[0m     \u001b[39m'\u001b[39m\u001b[39mservice_name\u001b[39m\u001b[39m'\u001b[39m: service_name,\n\u001b[0;32m   (...)\u001b[0m\n\u001b[1;32m    285\u001b[0m     \u001b[39m'\u001b[39m\u001b[39muse_fips_endpoint\u001b[39m\u001b[39m'\u001b[39m: use_fips_endpoint,\n\u001b[1;32m    286\u001b[0m }\n\u001b[1;32m    288\u001b[0m \u001b[39m# Attempt to resolve the exact region for this partition.\u001b[39;00m\n",
      "\u001b[0;31mNoRegionError\u001b[0m: You must specify a region."
     ]
    }
   ],
   "source": [
    "#################################################\n",
    "##### Timestream Configurations.  ###############\n",
    "#################################################\n",
    "ENDPOINT = \"us-east-1\" # <--- specify the region service endpoint\n",
    "PROFILE = \"default\" # <--- specify the AWS credentials profile\n",
    "DB_NAME = \"garmin_metrics_abir\" # <--- specify the database created in Amazon Timestream\n",
    "TABLE_NAME = \"health_metrics\" # <--- specify the table created in Amazon Timestream\n",
    "\n",
    "#client = timestream_query.createQueryClient(ENDPOINT, profile=PROFILE)\n",
    "query_client = session.client('timestream-query')"
   ]
  },
  {
   "cell_type": "code",
   "execution_count": 19,
   "metadata": {},
   "outputs": [],
   "source": [
    "def run_query(self, query_string):\n",
    "    try:\n",
    "        page_iterator = self.paginator.paginate(QueryString=query_string)\n",
    "        for page in page_iterator:\n",
    "            self._parse_query_result(page)\n",
    "    except Exception as err:\n",
    "        print(\"Exception while running query:\", err)\n",
    "\n",
    "run_query(self, )"
   ]
  },
  {
   "cell_type": "code",
   "execution_count": 28,
   "metadata": {},
   "outputs": [
    {
     "ename": "ModuleNotFoundError",
     "evalue": "No module named 'Constant'",
     "output_type": "error",
     "traceback": [
      "\u001b[0;31m---------------------------------------------------------------------------\u001b[0m",
      "\u001b[0;31mModuleNotFoundError\u001b[0m                       Traceback (most recent call last)",
      "Cell \u001b[0;32mIn[28], line 1\u001b[0m\n\u001b[0;32m----> 1\u001b[0m \u001b[39mfrom\u001b[39;00m \u001b[39mConstant\u001b[39;00m \u001b[39mimport\u001b[39;00m DATABASE_NAME, TABLE_NAME, ONE_GB_IN_BYTES\n\u001b[1;32m      4\u001b[0m \u001b[39mclass\u001b[39;00m \u001b[39mQueryExample\u001b[39;00m:\n\u001b[1;32m      5\u001b[0m     HOSTNAME \u001b[39m=\u001b[39m \u001b[39m\"\u001b[39m\u001b[39mhost-24Gju\u001b[39m\u001b[39m\"\u001b[39m\n",
      "\u001b[0;31mModuleNotFoundError\u001b[0m: No module named 'Constant'"
     ]
    }
   ],
   "source": [
    "\n",
    "from Constant import DATABASE_NAME, TABLE_NAME, ONE_GB_IN_BYTES\n",
    "\n",
    "\n",
    "class QueryExample:\n",
    "    HOSTNAME = \"host-24Gju\"\n",
    "\n",
    "    def __init__(self, client):\n",
    "        self.client = client\n",
    "        self.paginator = client.get_paginator('query')\n",
    "\n",
    "    # See records ingested into this table so far\n",
    "    SELECT_ALL = f\"SELECT * FROM {DATABASE_NAME}.{TABLE_NAME}\"\n",
    "\n",
    "    # 1. Find the average, p90, p95, and p99 CPU utilization for a specific EC2 host over the past 2 hours.\n",
    "    QUERY_1 = f\"\"\"\n",
    "        SELECT region, az, hostname, BIN(time, 15s) AS binned_timestamp, \n",
    "            ROUND(AVG(measure_value::double), 2) AS avg_cpu_utilization, \n",
    "            ROUND(APPROX_PERCENTILE(measure_value::double, 0.9), 2) AS p90_cpu_utilization, \n",
    "            ROUND(APPROX_PERCENTILE(measure_value::double, 0.95), 2) AS p95_cpu_utilization, \n",
    "            ROUND(APPROX_PERCENTILE(measure_value::double, 0.99), 2) AS p99_cpu_utilization \n",
    "        FROM {DATABASE_NAME}.{TABLE_NAME} \n",
    "        WHERE measure_name = 'cpu_utilization' \n",
    "        AND hostname = '{HOSTNAME}' \n",
    "        AND time > ago(2h) \n",
    "        GROUP BY region, hostname, az, BIN(time, 15s) \n",
    "        ORDER BY binned_timestamp ASC\n",
    "        \"\"\"\n"
   ]
  },
  {
   "cell_type": "code",
   "execution_count": 10,
   "metadata": {},
   "outputs": [
    {
     "ename": "AttributeError",
     "evalue": "module 'timestream_query' has no attribute 'createQueryClient'",
     "output_type": "error",
     "traceback": [
      "\u001b[0;31m---------------------------------------------------------------------------\u001b[0m",
      "\u001b[0;31mAttributeError\u001b[0m                            Traceback (most recent call last)",
      "Cell \u001b[0;32mIn[10], line 9\u001b[0m\n\u001b[1;32m      6\u001b[0m DB_NAME \u001b[39m=\u001b[39m \u001b[39m\"\u001b[39m\u001b[39mgarmin_metrics_abir\u001b[39m\u001b[39m\"\u001b[39m \u001b[39m# <--- specify the database created in Amazon Timestream\u001b[39;00m\n\u001b[1;32m      7\u001b[0m TABLE_NAME \u001b[39m=\u001b[39m \u001b[39m\"\u001b[39m\u001b[39mhealth_metrics\u001b[39m\u001b[39m\"\u001b[39m \u001b[39m# <--- specify the table created in Amazon Timestream\u001b[39;00m\n\u001b[0;32m----> 9\u001b[0m client \u001b[39m=\u001b[39m timestream\u001b[39m.\u001b[39;49mcreateQueryClient(ENDPOINT, profile\u001b[39m=\u001b[39mPROFILE)\n\u001b[1;32m     11\u001b[0m \u001b[39m#################################################\u001b[39;00m\n\u001b[1;32m     12\u001b[0m \u001b[39m##### SageMaker Configurations. #################\u001b[39;00m\n\u001b[1;32m     13\u001b[0m \u001b[39m#################################################\u001b[39;00m\n\u001b[1;32m     15\u001b[0m bucket \u001b[39m=\u001b[39m \u001b[39m'\u001b[39m\u001b[39mts-sagemaker\u001b[39m\u001b[39m'\u001b[39m   \u001b[39m# <--- specify a bucket you have access to\u001b[39;00m\n",
      "\u001b[0;31mAttributeError\u001b[0m: module 'timestream_query' has no attribute 'createQueryClient'"
     ]
    }
   ],
   "source": [
    "\n",
    "\n",
    "#################################################\n",
    "##### SageMaker Configurations. #################\n",
    "#################################################\n",
    "\n",
    "bucket = 'ts-sagemaker'   # <--- specify a bucket you have access to\n",
    "prefix = 'customer_demo/rcf-benchmarks'\n",
    "execution_role = sagemaker.get_execution_role()\n",
    "    \n",
    "# check if the bucket exists\n",
    "try:\n",
    "    boto3.Session().client('s3').head_bucket(Bucket=bucket)\n",
    "except botocore.exceptions.ParamValidationError as e:\n",
    "    print('You either forgot to specify your S3 bucket'\n",
    "          ' or you gave your bucket an invalid name!')\n",
    "except botocore.exceptions.ClientError as e:\n",
    "    if e.response['Error']['Code'] == '403':\n",
    "        print(\"You don't have permission to access the bucket, {}.\".format(bucket))\n",
    "    elif e.response['Error']['Code'] == '404':\n",
    "        print(\"Your bucket, {}, doesn't exist!\".format(bucket))\n",
    "    else:\n",
    "        raise\n",
    "else:\n",
    "    print('Training input/output will be stored in: s3://{}/{}'.format(bucket, prefix))"
   ]
  }
 ],
 "metadata": {
  "kernelspec": {
   "display_name": ".venv",
   "language": "python",
   "name": "python3"
  },
  "language_info": {
   "codemirror_mode": {
    "name": "ipython",
    "version": 3
   },
   "file_extension": ".py",
   "mimetype": "text/x-python",
   "name": "python",
   "nbconvert_exporter": "python",
   "pygments_lexer": "ipython3",
   "version": "3.9.16"
  },
  "orig_nbformat": 4
 },
 "nbformat": 4,
 "nbformat_minor": 2
}
