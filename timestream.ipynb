{
 "cells": [
  {
   "cell_type": "code",
   "execution_count": 11,
   "metadata": {},
   "outputs": [
    {
     "ename": "ImportError",
     "evalue": "cannot import name 'createQueryClient' from 'boto3' (/Users/meg/Library/Mobile Documents/com~apple~CloudDocs/CureTrax/Code/Timestream_analysis/.venv/lib/python3.9/site-packages/boto3/__init__.py)",
     "output_type": "error",
     "traceback": [
      "\u001b[0;31m---------------------------------------------------------------------------\u001b[0m",
      "\u001b[0;31mImportError\u001b[0m                               Traceback (most recent call last)",
      "Cell \u001b[0;32mIn[11], line 4\u001b[0m\n\u001b[1;32m      2\u001b[0m plt\u001b[39m.\u001b[39mrcParams[\u001b[39m'\u001b[39m\u001b[39mfigure.figsize\u001b[39m\u001b[39m'\u001b[39m] \u001b[39m=\u001b[39m [\u001b[39m15\u001b[39m, \u001b[39m5\u001b[39m]\n\u001b[1;32m      3\u001b[0m \u001b[39m#import timestreamquery as timestream\u001b[39;00m\n\u001b[0;32m----> 4\u001b[0m \u001b[39mfrom\u001b[39;00m \u001b[39mboto3\u001b[39;00m \u001b[39mimport\u001b[39;00m createQueryClient\n\u001b[1;32m      5\u001b[0m \u001b[39mfrom\u001b[39;00m \u001b[39mIPython\u001b[39;00m \u001b[39mimport\u001b[39;00m display\n\u001b[1;32m      6\u001b[0m \u001b[39mimport\u001b[39;00m \u001b[39mpandas\u001b[39;00m \u001b[39mas\u001b[39;00m \u001b[39mpd\u001b[39;00m\n",
      "\u001b[0;31mImportError\u001b[0m: cannot import name 'createQueryClient' from 'boto3' (/Users/meg/Library/Mobile Documents/com~apple~CloudDocs/CureTrax/Code/Timestream_analysis/.venv/lib/python3.9/site-packages/boto3/__init__.py)"
     ]
    }
   ],
   "source": [
    "import matplotlib.pyplot as plt\n",
    "plt.rcParams['figure.figsize'] = [15, 5]\n",
    "#import timestreamquery as timestream\n",
    "from IPython import display\n",
    "import pandas as pd\n",
    "import boto3\n",
    "import botocore\n",
    "import sagemaker\n",
    "import sys"
   ]
  },
  {
   "cell_type": "code",
   "execution_count": 12,
   "metadata": {},
   "outputs": [
    {
     "ename": "NameError",
     "evalue": "name 'Config' is not defined",
     "output_type": "error",
     "traceback": [
      "\u001b[0;31m---------------------------------------------------------------------------\u001b[0m",
      "\u001b[0;31mNameError\u001b[0m                                 Traceback (most recent call last)",
      "Cell \u001b[0;32mIn[12], line 5\u001b[0m\n\u001b[1;32m      3\u001b[0m database \u001b[39m=\u001b[39m \u001b[39m\"\u001b[39m\u001b[39mgarmin_metrics_abir\u001b[39m\u001b[39m\"\u001b[39m\n\u001b[1;32m      4\u001b[0m table \u001b[39m=\u001b[39m \u001b[39m\"\u001b[39m\u001b[39mhealth_metrics\u001b[39m\u001b[39m\"\u001b[39m\n\u001b[0;32m----> 5\u001b[0m query_client \u001b[39m=\u001b[39m session\u001b[39m.\u001b[39mclient(\u001b[39m\"\u001b[39m\u001b[39mtimestream-query\u001b[39m\u001b[39m\"\u001b[39m, config\u001b[39m=\u001b[39mConfig(region_name\u001b[39m=\u001b[39mregion))\n\u001b[1;32m      6\u001b[0m query_util \u001b[39m=\u001b[39m QueryUtil(query_client, database, table)\n\u001b[1;32m      7\u001b[0m query_string \u001b[39m=\u001b[39m \u001b[39mf\u001b[39m\u001b[39m\"\u001b[39m\u001b[39mSELECT Id FROM \u001b[39m\u001b[39m{\u001b[39;00mdatabase\u001b[39m}\u001b[39;00m\u001b[39m.\u001b[39m\u001b[39m{\u001b[39;00mtable\u001b[39m}\u001b[39;00m\u001b[39m WHERE time >= ago(24h)\u001b[39m\u001b[39m\"\u001b[39m\n",
      "\u001b[0;31mNameError\u001b[0m: name 'Config' is not defined"
     ]
    }
   ],
   "source": [
    "region = \"us-east-1\"\n",
    "session = boto3.Session()\n",
    "database = \"garmin_metrics_abir\"\n",
    "table = \"health_metrics\"\n",
    "query_client = session.client(\"timestream-query\", config=Config(region_name=region))\n",
    "query_util = QueryUtil(query_client, database, table)\n",
    "query_string = f\"SELECT Id FROM {database}.{table} WHERE time >= ago(24h)\"\n",
    "\n",
    "# Run Query\n",
    "id_list = query_util.run_query(query_string, True)"
   ]
  },
  {
   "cell_type": "code",
   "execution_count": null,
   "metadata": {},
   "outputs": [],
   "source": [
    "#required packages\n",
    "#python -m pip install 'boto3-stubs[timestream-query]'"
   ]
  },
  {
   "cell_type": "code",
   "execution_count": 10,
   "metadata": {},
   "outputs": [
    {
     "ename": "AttributeError",
     "evalue": "module 'timestream_query' has no attribute 'createQueryClient'",
     "output_type": "error",
     "traceback": [
      "\u001b[0;31m---------------------------------------------------------------------------\u001b[0m",
      "\u001b[0;31mAttributeError\u001b[0m                            Traceback (most recent call last)",
      "Cell \u001b[0;32mIn[10], line 9\u001b[0m\n\u001b[1;32m      6\u001b[0m DB_NAME \u001b[39m=\u001b[39m \u001b[39m\"\u001b[39m\u001b[39mgarmin_metrics_abir\u001b[39m\u001b[39m\"\u001b[39m \u001b[39m# <--- specify the database created in Amazon Timestream\u001b[39;00m\n\u001b[1;32m      7\u001b[0m TABLE_NAME \u001b[39m=\u001b[39m \u001b[39m\"\u001b[39m\u001b[39mhealth_metrics\u001b[39m\u001b[39m\"\u001b[39m \u001b[39m# <--- specify the table created in Amazon Timestream\u001b[39;00m\n\u001b[0;32m----> 9\u001b[0m client \u001b[39m=\u001b[39m timestream\u001b[39m.\u001b[39;49mcreateQueryClient(ENDPOINT, profile\u001b[39m=\u001b[39mPROFILE)\n\u001b[1;32m     11\u001b[0m \u001b[39m#################################################\u001b[39;00m\n\u001b[1;32m     12\u001b[0m \u001b[39m##### SageMaker Configurations. #################\u001b[39;00m\n\u001b[1;32m     13\u001b[0m \u001b[39m#################################################\u001b[39;00m\n\u001b[1;32m     15\u001b[0m bucket \u001b[39m=\u001b[39m \u001b[39m'\u001b[39m\u001b[39mts-sagemaker\u001b[39m\u001b[39m'\u001b[39m   \u001b[39m# <--- specify a bucket you have access to\u001b[39;00m\n",
      "\u001b[0;31mAttributeError\u001b[0m: module 'timestream_query' has no attribute 'createQueryClient'"
     ]
    }
   ],
   "source": [
    "#################################################\n",
    "##### Timestream Configurations.  ###############\n",
    "#################################################\n",
    "ENDPOINT = \"us-east-1\" # <--- specify the region service endpoint\n",
    "PROFILE = \"default\" # <--- specify the AWS credentials profile\n",
    "DB_NAME = \"garmin_metrics_abir\" # <--- specify the database created in Amazon Timestream\n",
    "TABLE_NAME = \"health_metrics\" # <--- specify the table created in Amazon Timestream\n",
    "\n",
    "client = timestream.createQueryClient(ENDPOINT, profile=PROFILE)\n",
    "\n",
    "#################################################\n",
    "##### SageMaker Configurations. #################\n",
    "#################################################\n",
    "\n",
    "bucket = 'ts-sagemaker'   # <--- specify a bucket you have access to\n",
    "prefix = 'customer_demo/rcf-benchmarks'\n",
    "execution_role = sagemaker.get_execution_role()\n",
    "    \n",
    "# check if the bucket exists\n",
    "try:\n",
    "    boto3.Session().client('s3').head_bucket(Bucket=bucket)\n",
    "except botocore.exceptions.ParamValidationError as e:\n",
    "    print('You either forgot to specify your S3 bucket'\n",
    "          ' or you gave your bucket an invalid name!')\n",
    "except botocore.exceptions.ClientError as e:\n",
    "    if e.response['Error']['Code'] == '403':\n",
    "        print(\"You don't have permission to access the bucket, {}.\".format(bucket))\n",
    "    elif e.response['Error']['Code'] == '404':\n",
    "        print(\"Your bucket, {}, doesn't exist!\".format(bucket))\n",
    "    else:\n",
    "        raise\n",
    "else:\n",
    "    print('Training input/output will be stored in: s3://{}/{}'.format(bucket, prefix))"
   ]
  }
 ],
 "metadata": {
  "kernelspec": {
   "display_name": ".venv",
   "language": "python",
   "name": "python3"
  },
  "language_info": {
   "codemirror_mode": {
    "name": "ipython",
    "version": 3
   },
   "file_extension": ".py",
   "mimetype": "text/x-python",
   "name": "python",
   "nbconvert_exporter": "python",
   "pygments_lexer": "ipython3",
   "version": "3.9.16"
  },
  "orig_nbformat": 4
 },
 "nbformat": 4,
 "nbformat_minor": 2
}
